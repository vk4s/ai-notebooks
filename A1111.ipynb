{
  "nbformat": 4,
  "nbformat_minor": 0,
  "metadata": {
    "colab": {
      "provenance": [],
      "gpuType": "T4",
      "authorship_tag": "ABX9TyM3XP3L7p9yXQcp5ICRsPZp",
      "include_colab_link": true
    },
    "kernelspec": {
      "name": "python3",
      "display_name": "Python 3"
    },
    "language_info": {
      "name": "python"
    },
    "accelerator": "GPU"
  },
  "cells": [
    {
      "cell_type": "markdown",
      "metadata": {
        "id": "view-in-github",
        "colab_type": "text"
      },
      "source": [
        "<a href=\"https://colab.research.google.com/github/vk4s/ai-notebooks/blob/main/A1111.ipynb\" target=\"_parent\"><img src=\"https://colab.research.google.com/assets/colab-badge.svg\" alt=\"Open In Colab\"/></a>"
      ]
    },
    {
      "cell_type": "code",
      "execution_count": 1,
      "metadata": {
        "id": "kgDgNUoYuo-E",
        "outputId": "31c2596f-9100-4536-a81e-f787e532a1c0",
        "colab": {
          "base_uri": "https://localhost:8080/"
        }
      },
      "outputs": [
        {
          "output_type": "stream",
          "name": "stdout",
          "text": [
            "Cloning into 'stable-diffusion-webui'...\n",
            "remote: Enumerating objects: 34968, done.\u001b[K\n",
            "remote: Counting objects: 100% (14/14), done.\u001b[K\n",
            "remote: Compressing objects: 100% (11/11), done.\u001b[K\n",
            "remote: Total 34968 (delta 6), reused 3 (delta 3), pack-reused 34954 (from 2)\u001b[K\n",
            "Receiving objects: 100% (34968/34968), 35.58 MiB | 13.27 MiB/s, done.\n",
            "Resolving deltas: 100% (24417/24417), done.\n"
          ]
        }
      ],
      "source": [
        "!git clone https://github.com/AUTOMATIC1111/stable-diffusion-webui"
      ]
    },
    {
      "cell_type": "code",
      "source": [
        "!cd ./stable-diffusion-webui/"
      ],
      "metadata": {
        "id": "233AdYD_v3c9"
      },
      "execution_count": 3,
      "outputs": []
    },
    {
      "cell_type": "code",
      "source": [
        "cd  /content/stable-diffusion-webui/models/Stable-diffusion"
      ],
      "metadata": {
        "id": "P1d82K67wL0a",
        "outputId": "23397a41-7642-49d5-c5ba-63dd1500d2ca",
        "colab": {
          "base_uri": "https://localhost:8080/"
        }
      },
      "execution_count": 11,
      "outputs": [
        {
          "output_type": "stream",
          "name": "stdout",
          "text": [
            "/content/stable-diffusion-webui/models/Stable-diffusion\n"
          ]
        }
      ]
    },
    {
      "cell_type": "code",
      "source": [
        "!curl -L \"https://civitai.com/api/download/models/501240?type=Model&format=SafeTensor&size=full&fp=fp16\" -o model.safetensors"
      ],
      "metadata": {
        "id": "40Q7zetrvV2N",
        "outputId": "85244131-a13a-4796-dfc7-9e85b41f4b4a",
        "colab": {
          "base_uri": "https://localhost:8080/"
        }
      },
      "execution_count": 12,
      "outputs": [
        {
          "output_type": "stream",
          "name": "stdout",
          "text": [
            "  % Total    % Received % Xferd  Average Speed   Time    Time     Time  Current\n",
            "                                 Dload  Upload   Total   Spent    Left  Speed\n",
            "100   521    0   521    0     0    454      0 --:--:--  0:00:01 --:--:--   454\n",
            "100 4067M  100 4067M    0     0  53.7M      0  0:01:15  0:01:15 --:--:-- 48.0M\n"
          ]
        }
      ]
    },
    {
      "cell_type": "code",
      "source": [
        "cd  /content/stable-diffusion-webui/"
      ],
      "metadata": {
        "id": "08oCpjwMwOoo",
        "outputId": "3ce51cd5-a4d3-46f9-fa02-9c9922987923",
        "colab": {
          "base_uri": "https://localhost:8080/"
        }
      },
      "execution_count": 13,
      "outputs": [
        {
          "output_type": "stream",
          "name": "stdout",
          "text": [
            "/content/stable-diffusion-webui\n"
          ]
        }
      ]
    },
    {
      "cell_type": "code",
      "source": [
        "!COMMANDLINE_ARGS=\"--share --disable-safe-unpickle --xformers\" \\\n",
        "    REQS_FILE=\"requirements_versions.txt\" \\\n",
        "    python launch.py"
      ],
      "metadata": {
        "id": "YJ2-_Tsnxl3s",
        "outputId": "35aae310-9bc7-45c8-a0cf-632292753420",
        "colab": {
          "base_uri": "https://localhost:8080/"
        }
      },
      "execution_count": 14,
      "outputs": [
        {
          "output_type": "stream",
          "name": "stdout",
          "text": [
            "Python 3.11.12 (main, Apr  9 2025, 08:55:54) [GCC 11.4.0]\n",
            "Version: v1.10.1\n",
            "Commit hash: 82a973c04367123ae98bd9abdf80d9eda9b910e2\n",
            "Traceback (most recent call last):\n",
            "  File \"/content/stable-diffusion-webui/launch.py\", line 48, in <module>\n",
            "    main()\n",
            "  File \"/content/stable-diffusion-webui/launch.py\", line 39, in main\n",
            "    prepare_environment()\n",
            "  File \"/content/stable-diffusion-webui/modules/launch_utils.py\", line 387, in prepare_environment\n",
            "    raise RuntimeError(\n",
            "RuntimeError: Torch is not able to use GPU; add --skip-torch-cuda-test to COMMANDLINE_ARGS variable to disable this check\n"
          ]
        }
      ]
    }
  ]
}